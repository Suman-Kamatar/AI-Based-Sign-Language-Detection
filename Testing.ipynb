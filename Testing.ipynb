{
 "cells": [
  {
   "cell_type": "markdown",
   "id": "eec58829-d5db-46e9-8348-eead2aa447f3",
   "metadata": {},
   "source": [
    "Import Libraries"
   ]
  },
  {
   "cell_type": "code",
   "execution_count": 8,
   "id": "78769a63-2779-46ce-a826-64f07adfb33a",
   "metadata": {},
   "outputs": [],
   "source": [
    "import os\n",
    "import cv2\n",
    "import numpy as np\n",
    "import matplotlib.pyplot as plt\n",
    "from sklearn.model_selection import train_test_split\n",
    "from tensorflow.keras.utils import to_categorical\n",
    "import pickle"
   ]
  },
  {
   "cell_type": "markdown",
   "id": "fa031d9c-4c27-4382-a58a-40489f629465",
   "metadata": {},
   "source": [
    "Load Dataset"
   ]
  },
  {
   "cell_type": "code",
   "execution_count": 10,
   "id": "025ab7be-75eb-4142-bf9d-1ccb2c6454d6",
   "metadata": {},
   "outputs": [],
   "source": [
    "\n",
    "# Set the path to your dataset\n",
    "dataset_path = 'Resized_Indian'\n",
    "\n",
    "# Initialize lists to hold images and labels\n",
    "images = []\n",
    "labels = []\n",
    "\n",
    "# Loop through each subdirectory in the dataset\n",
    "for label in os.listdir(dataset_path):\n",
    "    label_path = os.path.join(dataset_path, label)\n",
    "    if os.path.isdir(label_path):\n",
    "        for image_file in os.listdir(label_path):\n",
    "            image_path = os.path.join(label_path, image_file)\n",
    "            # Load the image\n",
    "            image = cv2.imread(image_path)\n",
    "            # Resize the image to a fixed size (e.g., 64x64)\n",
    "            image = cv2.resize(image, (64, 64))\n",
    "    \n",
    "            \n",
    "            images.append(image)\n",
    "            labels.append(label)\n",
    "\n",
    "# Convert lists to numpy arrays\n",
    "images = np.array(images)\n",
    "labels = np.array(labels)\n",
    "\n",
    "\n",
    "\n",
    "\n"
   ]
  },
  {
   "cell_type": "markdown",
   "id": "4922e600-212a-4ee2-8371-b500df5644a5",
   "metadata": {},
   "source": [
    "Balancing Dataset"
   ]
  },
  {
   "cell_type": "code",
   "execution_count": 19,
   "id": "73a7e5db-f0bf-41e6-a9d2-7c604ab1f8db",
   "metadata": {},
   "outputs": [
    {
     "name": "stdout",
     "output_type": "stream",
     "text": [
      "Class 1 has 1200 samples.\n",
      "Class 1: Selected 1200 samples.\n",
      "Class 2 has 1200 samples.\n",
      "Class 2: Selected 1200 samples.\n",
      "Class 3 has 1200 samples.\n",
      "Class 3: Selected 1200 samples.\n",
      "Class 4 has 1200 samples.\n",
      "Class 4: Selected 1200 samples.\n",
      "Class 5 has 1200 samples.\n",
      "Class 5: Selected 1200 samples.\n",
      "Class 6 has 1200 samples.\n",
      "Class 6: Selected 1200 samples.\n",
      "Class 7 has 1200 samples.\n",
      "Class 7: Selected 1200 samples.\n",
      "Class 8 has 1200 samples.\n",
      "Class 8: Selected 1200 samples.\n",
      "Class 9 has 1200 samples.\n",
      "Class 9: Selected 1200 samples.\n",
      "Class A has 1200 samples.\n",
      "Class A: Selected 1200 samples.\n",
      "Class B has 1200 samples.\n",
      "Class B: Selected 1200 samples.\n",
      "Class C has 1447 samples.\n",
      "Class C: Selected 1200 samples.\n",
      "Class D has 1200 samples.\n",
      "Class D: Selected 1200 samples.\n",
      "Class E has 1200 samples.\n",
      "Class E: Selected 1200 samples.\n",
      "Class F has 1200 samples.\n",
      "Class F: Selected 1200 samples.\n",
      "Class G has 1200 samples.\n",
      "Class G: Selected 1200 samples.\n",
      "Class H has 1200 samples.\n",
      "Class H: Selected 1200 samples.\n",
      "Class I has 1379 samples.\n",
      "Class I: Selected 1200 samples.\n",
      "Class J has 1200 samples.\n",
      "Class J: Selected 1200 samples.\n",
      "Class K has 1200 samples.\n",
      "Class K: Selected 1200 samples.\n",
      "Class L has 1200 samples.\n",
      "Class L: Selected 1200 samples.\n",
      "Class M has 1200 samples.\n",
      "Class M: Selected 1200 samples.\n",
      "Class N has 1200 samples.\n",
      "Class N: Selected 1200 samples.\n",
      "Class O has 1429 samples.\n",
      "Class O: Selected 1200 samples.\n",
      "Class P has 1200 samples.\n",
      "Class P: Selected 1200 samples.\n",
      "Class Q has 1200 samples.\n",
      "Class Q: Selected 1200 samples.\n",
      "Class R has 1200 samples.\n",
      "Class R: Selected 1200 samples.\n",
      "Class S has 1200 samples.\n",
      "Class S: Selected 1200 samples.\n",
      "Class T has 1200 samples.\n",
      "Class T: Selected 1200 samples.\n",
      "Class U has 1200 samples.\n",
      "Class U: Selected 1200 samples.\n",
      "Class V has 1290 samples.\n",
      "Class V: Selected 1200 samples.\n",
      "Class W has 1200 samples.\n",
      "Class W: Selected 1200 samples.\n",
      "Class X has 1200 samples.\n",
      "Class X: Selected 1200 samples.\n",
      "Class Y has 1200 samples.\n",
      "Class Y: Selected 1200 samples.\n",
      "Class Z has 1200 samples.\n",
      "Class Z: Selected 1200 samples.\n",
      "Balanced dataset shape: (42000, 64, 64, 3) (42000,)\n"
     ]
    }
   ],
   "source": [
    "import numpy as np\n",
    "from collections import Counter\n",
    "\n",
    "# Count the number of samples per class\n",
    "class_counts = Counter(labels)\n",
    "min_samples = min(class_counts.values())\n",
    "\n",
    "# Initialize lists for balanced dataset\n",
    "balanced_images = []\n",
    "balanced_labels = []\n",
    "\n",
    "# Downsample each class\n",
    "for class_label in np.unique(labels):\n",
    "    # Get indices of all images for this class\n",
    "    class_indices = np.where(labels == class_label)[0]\n",
    "    \n",
    "    # Debugging: Print the number of samples per class\n",
    "    print(f\"Class {class_label} has {len(class_indices)} samples.\")\n",
    "\n",
    "    # Skip classes that have no samples\n",
    "    if len(class_indices) == 0:\n",
    "        print(f\"No samples found for class {class_label}. Skipping...\")\n",
    "        continue\n",
    "     \n",
    "    # If the class has fewer samples than the min_samples, select all available samples\n",
    "    if len(class_indices) < min_samples:\n",
    "        print(f\"Class {class_label} has fewer samples than the minimum. Using all available samples.\")\n",
    "        selected_indices = class_indices\n",
    "    else:\n",
    "        # Randomly select min_samples images for this class\n",
    "        selected_indices = np.random.choice(class_indices, min_samples, replace=False)\n",
    "    \n",
    "    # Debugging: Check how many indices are selected\n",
    "    print(f\"Class {class_label}: Selected {len(selected_indices)} samples.\")\n",
    "\n",
    "    # Append the selected images and labels to the balanced dataset\n",
    "    balanced_images.extend(images[selected_indices])\n",
    "    balanced_labels.extend(labels[selected_indices])\n",
    "\n",
    "# Convert lists to numpy arrays\n",
    "balanced_images = np.array(balanced_images)\n",
    "balanced_labels = np.array(balanced_labels)\n",
    "\n",
    "# Now you can access .shape without error\n",
    "print(\"Balanced dataset shape:\", balanced_images.shape, balanced_labels.shape)       "
   ]
  },
  {
   "cell_type": "markdown",
   "id": "b18d63dc-e0de-4cf5-88e3-e8c22b0f444a",
   "metadata": {},
   "source": [
    "Encodind And Splitting Dataset"
   ]
  },
  {
   "cell_type": "code",
   "execution_count": 22,
   "id": "cb56276b-020d-4394-9fc0-7a43a3febec1",
   "metadata": {},
   "outputs": [],
   "source": [
    "# Encode labels to integers\n",
    "from sklearn.preprocessing import LabelEncoder\n",
    "label_encoder = LabelEncoder()\n",
    "labels = label_encoder.fit_transform(labels)\n",
    "\n",
    "# One-hot encode the labels\n",
    "num_classes = 35\n",
    "labels = to_categorical(labels, num_classes)\n",
    "\n",
    "# Normalize the images\n",
    "images = images.astype('float32') / 255.0\n",
    "\n",
    "# Split the dataset into training and testing sets\n",
    "x_train, x_temp, y_train, y_temp = train_test_split(images, labels, test_size=0.3, random_state=42)\n",
    "x_val, x_test, y_val, y_test = train_test_split(x_temp, y_temp, test_size=0.5, random_state=42)"
   ]
  },
  {
   "cell_type": "markdown",
   "id": "68ccf640-ea40-4be6-ab2d-00ce6de6f351",
   "metadata": {},
   "source": [
    "Loading Dataset"
   ]
  },
  {
   "cell_type": "code",
   "execution_count": 25,
   "id": "a4de39c1-619e-41fc-881f-2b01aa9afac0",
   "metadata": {},
   "outputs": [
    {
     "name": "stderr",
     "output_type": "stream",
     "text": [
      "WARNING:absl:Compiled the loaded model, but the compiled metrics have yet to be built. `model.compile_metrics` will be empty until you train or evaluate the model.\n"
     ]
    }
   ],
   "source": [
    "import tensorflow as tf\n",
    "\n",
    "# Load the saved model\n",
    "model = tf.keras.models.load_model('sign_language_model.h5')\n"
   ]
  },
  {
   "cell_type": "markdown",
   "id": "a5c78bea-a1f5-44fe-9f52-18a54cd46ccc",
   "metadata": {},
   "source": [
    "Image Augumentation And Evaluation of model"
   ]
  },
  {
   "cell_type": "code",
   "execution_count": 28,
   "id": "3d3e54d2-5715-470f-9c55-49c022c17ba5",
   "metadata": {},
   "outputs": [
    {
     "name": "stdout",
     "output_type": "stream",
     "text": [
      "Found 34195 images belonging to 35 classes.\n"
     ]
    },
    {
     "name": "stderr",
     "output_type": "stream",
     "text": [
      "C:\\Users\\suman\\anaconda3\\Lib\\site-packages\\keras\\src\\trainers\\data_adapters\\py_dataset_adapter.py:121: UserWarning: Your `PyDataset` class should call `super().__init__(**kwargs)` in its constructor. `**kwargs` can include `workers`, `use_multiprocessing`, `max_queue_size`. Do not pass these arguments to `fit()`, as they will be ignored.\n",
      "  self._warn_if_super_not_called()\n"
     ]
    },
    {
     "name": "stdout",
     "output_type": "stream",
     "text": [
      "\u001b[1m1069/1069\u001b[0m \u001b[32m━━━━━━━━━━━━━━━━━━━━\u001b[0m\u001b[37m\u001b[0m \u001b[1m273s\u001b[0m 255ms/step - accuracy: 0.9994 - loss: 0.1458\n",
      "Test Accuracy: 99.89%\n"
     ]
    }
   ],
   "source": [
    "import os\n",
    "import numpy as np\n",
    "from tensorflow.keras.preprocessing.image import ImageDataGenerator\n",
    "\n",
    "# Define the test dataset directory\n",
    "test_dir = r\"C:\\Users\\suman\\OneDrive\\Desktop\\sign language\\Real-Time-Recognition-of-Indian-Sign-Language-master\\train_processed\"\n",
    "\n",
    "# Preprocessing the test data\n",
    "img_size = (64, 64)\n",
    "datagen = ImageDataGenerator(rescale=1.0/255.0)\n",
    "\n",
    "test_gen = datagen.flow_from_directory(\n",
    "    test_dir,\n",
    "    target_size=img_size,\n",
    "    batch_size=32,\n",
    "    class_mode='categorical',\n",
    "    shuffle=False\n",
    ")\n",
    "\n",
    "# Evaluate the model on the test dataset\n",
    "test_loss, test_accuracy = model.evaluate(test_gen)\n",
    "print(f\"Test Accuracy: {test_accuracy * 100:.2f}%\")\n"
   ]
  },
  {
   "cell_type": "markdown",
   "id": "a645b596-cf50-4088-a1b5-0db12ed2e804",
   "metadata": {},
   "source": [
    "Testing"
   ]
  },
  {
   "cell_type": "code",
   "execution_count": 31,
   "id": "94c2a67a-0181-4ef9-aa11-18380b3cc91d",
   "metadata": {},
   "outputs": [
    {
     "name": "stdout",
     "output_type": "stream",
     "text": [
      "\u001b[1m1/1\u001b[0m \u001b[32m━━━━━━━━━━━━━━━━━━━━\u001b[0m\u001b[37m\u001b[0m \u001b[1m0s\u001b[0m 108ms/step\n",
      "Predicted Label: 5\n"
     ]
    }
   ],
   "source": [
    "import cv2\n",
    "\n",
    "# Load and preprocess an image\n",
    "img_path = r\"C:\\Users\\suman\\OneDrive\\Desktop\\Mini project\\Resized_Indian\\5\\0.jpg\"\n",
    "img = cv2.imread(img_path)\n",
    "img = cv2.resize(img, (64, 64))\n",
    "img = img / 255.0\n",
    "img = np.expand_dims(img, axis=0)\n",
    "\n",
    "# Make a prediction\n",
    "predictions = model.predict(img)\n",
    "class_index = np.argmax(predictions, axis=1)[0]\n",
    "\n",
    "# Map the prediction to the label\n",
    "class_labels =['1' ,'2', '3' ,'4' ,'5' ,'6', '7', '8', '9', 'A' ,'B', 'C' ,'D' ,'E', 'F', 'G' ,'H' ,'I',\n",
    " 'J' ,'K', 'L' ,'M', 'N' ,'O', 'P', 'Q', 'R' ,'S' ,'T' ,'U', 'V' ,'W' ,'X', 'Y', 'Z']  # Replace with your labels\n",
    "predicted_label = class_labels[class_index]\n",
    "\n",
    "print(f\"Predicted Label: {predicted_label}\")\n"
   ]
  },
  {
   "cell_type": "markdown",
   "id": "c7ea93f6-0101-41d0-9801-3e63f3c3f831",
   "metadata": {},
   "source": [
    "Image Display with Predicted Label"
   ]
  },
  {
   "cell_type": "code",
   "execution_count": 34,
   "id": "796726c4-f9ef-4433-8b2e-6fdc4f1929dc",
   "metadata": {},
   "outputs": [
    {
     "data": {
      "image/png": "[encoded data removed]",
      "text/plain": [
       "<Figure size 640x480 with 1 Axes>"
      ]
     },
     "metadata": {},
     "output_type": "display_data"
    }
   ],
   "source": [
    "import matplotlib.pyplot as plt\n",
    "\n",
    "# Display the test image and its prediction\n",
    "plt.imshow(cv2.cvtColor(cv2.imread(img_path), cv2.COLOR_BGR2RGB))\n",
    "plt.title(f\"Predicted Label: {predicted_label}\")\n",
    "plt.axis('off')\n",
    "plt.show()\n"
   ]
  },
  {
   "cell_type": "markdown",
   "id": "58462199-5b6e-48a7-92b6-604a933e3046",
   "metadata": {},
   "source": [
    "Evaluation"
   ]
  },
  {
   "cell_type": "code",
   "execution_count": 37,
   "id": "5af9cce4-efd4-4781-bce8-b692d137005b",
   "metadata": {},
   "outputs": [
    {
     "name": "stdout",
     "output_type": "stream",
     "text": [
      "\u001b[1m1069/1069\u001b[0m \u001b[32m━━━━━━━━━━━━━━━━━━━━\u001b[0m\u001b[37m\u001b[0m \u001b[1m23s\u001b[0m 21ms/step\n"
     ]
    },
    {
     "data": {
      "image/png": "[encoded data removed]",
      "text/plain": [
       "<Figure size 640x480 with 2 Axes>"
      ]
     },
     "metadata": {},
     "output_type": "display_data"
    },
    {
     "name": "stdout",
     "output_type": "stream",
     "text": [
      "              precision    recall  f1-score   support\n",
      "\n",
      "           1       1.00      1.00      1.00       960\n",
      "           2       1.00      1.00      1.00       960\n",
      "           3       1.00      1.00      1.00       960\n",
      "           4       1.00      1.00      1.00       960\n",
      "           5       1.00      1.00      1.00       960\n",
      "           6       1.00      1.00      1.00       960\n",
      "           7       1.00      1.00      1.00       960\n",
      "           8       1.00      1.00      1.00       960\n",
      "           9       1.00      1.00      1.00       960\n",
      "           A       1.00      1.00      1.00       960\n",
      "           B       1.00      1.00      1.00       960\n",
      "           C       0.98      1.00      0.99      1157\n",
      "           D       1.00      1.00      1.00       960\n",
      "           E       1.00      1.00      1.00       960\n",
      "           F       1.00      1.00      1.00       960\n",
      "           G       1.00      1.00      1.00       960\n",
      "           H       1.00      1.00      1.00       960\n",
      "           I       0.99      1.00      1.00      1103\n",
      "           J       1.00      1.00      1.00       960\n",
      "           K       1.00      1.00      1.00       960\n",
      "           L       1.00      1.00      1.00       960\n",
      "           M       1.00      1.00      1.00       960\n",
      "           N       1.00      1.00      1.00       960\n",
      "           O       1.00      0.97      0.98      1143\n",
      "           P       1.00      1.00      1.00       960\n",
      "           Q       1.00      1.00      1.00       960\n",
      "           R       1.00      1.00      1.00       960\n",
      "           S       1.00      1.00      1.00       960\n",
      "           T       1.00      1.00      1.00       960\n",
      "           U       1.00      1.00      1.00       960\n",
      "           V       1.00      1.00      1.00      1032\n",
      "           W       1.00      1.00      1.00       960\n",
      "           X       1.00      1.00      1.00       960\n",
      "           Y       1.00      1.00      1.00       960\n",
      "           Z       1.00      1.00      1.00       960\n",
      "\n",
      "    accuracy                           1.00     34195\n",
      "   macro avg       1.00      1.00      1.00     34195\n",
      "weighted avg       1.00      1.00      1.00     34195\n",
      "\n"
     ]
    }
   ],
   "source": [
    "from sklearn.metrics import classification_report, confusion_matrix\n",
    "import seaborn as sns\n",
    "\n",
    "# Get ground truth and predictions\n",
    "y_true = test_gen.classes\n",
    "y_pred = np.argmax(model.predict(test_gen), axis=1)\n",
    "\n",
    "# Confusion Matrix\n",
    "conf_matrix = confusion_matrix(y_true, y_pred)\n",
    "sns.heatmap(conf_matrix, annot=True, fmt='d', cmap='Blues', xticklabels=test_gen.class_indices.keys(), yticklabels=test_gen.class_indices.keys())\n",
    "plt.xlabel('Predicted')\n",
    "plt.ylabel('Actual')\n",
    "plt.title('Confusion Matrix')\n",
    "plt.show()\n",
    "\n",
    "# Classification Report\n",
    "print(classification_report(y_true, y_pred, target_names=test_gen.class_indices.keys()))\n"
   ]
  },
  {
   "cell_type": "code",
   "execution_count": null,
   "id": "a30e6a16-5dfd-4edb-bd33-e9bbfe5f5312",
   "metadata": {},
   "outputs": [],
   "source": [
    "\n"
   ]
  },
  {
   "cell_type": "code",
   "execution_count": null,
   "id": "f8e2a49b-cb5a-4503-a209-27024981403a",
   "metadata": {},
   "outputs": [],
   "source": []
  }
 ],
 "metadata": {
  "kernelspec": {
   "display_name": "Python 3 (ipykernel)",
   "language": "python",
   "name": "python3"
  },
  "language_info": {
   "codemirror_mode": {
    "name": "ipython",
    "version": 3
   },
   "file_extension": ".py",
   "mimetype": "text/x-python",
   "name": "python",
   "nbconvert_exporter": "python",
   "pygments_lexer": "ipython3",
   "version": "3.11.7"
  }
 },
 "nbformat": 4,
 "nbformat_minor": 5
}
